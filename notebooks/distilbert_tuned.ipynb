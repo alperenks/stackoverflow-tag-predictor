{
 "cells": [
  {
   "cell_type": "code",
   "execution_count": 39,
   "id": "b6fa7ab9",
   "metadata": {},
   "outputs": [
    {
     "name": "stderr",
     "output_type": "stream",
     "text": [
      "\n",
      "[notice] A new release of pip is available: 25.0.1 -> 25.1.1\n",
      "[notice] To update, run: python.exe -m pip install --upgrade pip\n"
     ]
    }
   ],
   "source": [
    "!pip install -U transformers datasets scikit-learn --quiet\n"
   ]
  },
  {
   "cell_type": "code",
   "execution_count": null,
   "id": "7d736e3d",
   "metadata": {},
   "outputs": [
    {
     "name": "stderr",
     "output_type": "stream",
     "text": [
      "\n",
      "[notice] A new release of pip is available: 25.0.1 -> 25.1.1\n",
      "[notice] To update, run: python.exe -m pip install --upgrade pip\n",
      "Some weights of DistilBertForSequenceClassification were not initialized from the model checkpoint at distilbert-base-uncased and are newly initialized: ['classifier.bias', 'classifier.weight', 'pre_classifier.bias', 'pre_classifier.weight']\n",
      "You should probably TRAIN this model on a down-stream task to be able to use it for predictions and inference.\n",
      "C:\\Users\\Alp\\AppData\\Local\\Temp\\ipykernel_1916\\320913502.py:114: FutureWarning: `tokenizer` is deprecated and will be removed in version 5.0.0 for `Trainer.__init__`. Use `processing_class` instead.\n",
      "  trainer = Trainer(\n"
     ]
    },
    {
     "data": {
      "text/html": [
       "\n",
       "    <div>\n",
       "      \n",
       "      <progress value='2500' max='2500' style='width:300px; height:20px; vertical-align: middle;'></progress>\n",
       "      [2500/2500 14:37:39, Epoch 5/5]\n",
       "    </div>\n",
       "    <table border=\"1\" class=\"dataframe\">\n",
       "  <thead>\n",
       " <tr style=\"text-align: left;\">\n",
       "      <th>Epoch</th>\n",
       "      <th>Training Loss</th>\n",
       "      <th>Validation Loss</th>\n",
       "      <th>Micro F1</th>\n",
       "      <th>Macro F1</th>\n",
       "      <th>Samples F1</th>\n",
       "    </tr>\n",
       "  </thead>\n",
       "  <tbody>\n",
       "    <tr>\n",
       "      <td>1</td>\n",
       "      <td>0.180900</td>\n",
       "      <td>0.098600</td>\n",
       "      <td>0.000000</td>\n",
       "      <td>0.000000</td>\n",
       "      <td>0.000000</td>\n",
       "    </tr>\n",
       "    <tr>\n",
       "      <td>2</td>\n",
       "      <td>0.099900</td>\n",
       "      <td>0.097585</td>\n",
       "      <td>0.000000</td>\n",
       "      <td>0.000000</td>\n",
       "      <td>0.000000</td>\n",
       "    </tr>\n",
       "    <tr>\n",
       "      <td>3</td>\n",
       "      <td>0.092300</td>\n",
       "      <td>0.083759</td>\n",
       "      <td>0.162018</td>\n",
       "      <td>0.020004</td>\n",
       "      <td>0.113567</td>\n",
       "    </tr>\n",
       "    <tr>\n",
       "      <td>4</td>\n",
       "      <td>0.080400</td>\n",
       "      <td>0.075930</td>\n",
       "      <td>0.290098</td>\n",
       "      <td>0.043942</td>\n",
       "      <td>0.222200</td>\n",
       "    </tr>\n",
       "    <tr>\n",
       "      <td>5</td>\n",
       "      <td>0.074400</td>\n",
       "      <td>0.073689</td>\n",
       "      <td>0.325613</td>\n",
       "      <td>0.052493</td>\n",
       "      <td>0.256533</td>\n",
       "    </tr>\n",
       "  </tbody>\n",
       "</table><p>"
      ],
      "text/plain": [
       "<IPython.core.display.HTML object>"
      ]
     },
     "metadata": {},
     "output_type": "display_data"
    },
    {
     "data": {
      "text/html": [
       "\n",
       "    <div>\n",
       "      \n",
       "      <progress value='125' max='125' style='width:300px; height:20px; vertical-align: middle;'></progress>\n",
       "      [125/125 12:59]\n",
       "    </div>\n",
       "    "
      ],
      "text/plain": [
       "<IPython.core.display.HTML object>"
      ]
     },
     "metadata": {},
     "output_type": "display_data"
    },
    {
     "data": {
      "text/plain": [
       "{'eval_loss': 0.07368932664394379,\n",
       " 'eval_micro_f1': 0.32561307901907355,\n",
       " 'eval_macro_f1': 0.05249324561986624,\n",
       " 'eval_samples_f1': 0.2565333333333333,\n",
       " 'eval_runtime': 785.7256,\n",
       " 'eval_samples_per_second': 1.273,\n",
       " 'eval_steps_per_second': 0.159,\n",
       " 'epoch': 5.0}"
      ]
     },
     "execution_count": 42,
     "metadata": {},
     "output_type": "execute_result"
    }
   ],
   "source": [
    "\n",
    "import pandas as pd\n",
    "import numpy as np\n",
    "import re\n",
    "from bs4 import BeautifulSoup\n",
    "from collections import Counter\n",
    "\n",
    "from sklearn.preprocessing import MultiLabelBinarizer\n",
    "from sklearn.metrics import f1_score\n",
    "from sklearn.model_selection import train_test_split\n",
    "from datasets import Dataset\n",
    "from transformers import (\n",
    "    DistilBertTokenizerFast,\n",
    "    DistilBertForSequenceClassification,\n",
    "    Trainer,\n",
    "    TrainingArguments,\n",
    ")\n",
    "import torch\n",
    "\n",
    "questions = pd.read_csv(\"../data/Questions.csv\", encoding=\"ISO-8859-1\")\n",
    "tags = pd.read_csv(\"../data/Tags.csv\", encoding=\"ISO-8859-1\")\n",
    "tag_groups = tags.groupby(\"Id\")[\"Tag\"].apply(list).reset_index()\n",
    "df = questions.merge(tag_groups, on=\"Id\", how=\"inner\")\n",
    "\n",
    "# Sample\n",
    "sampled_df = df_multi.sample(n=min(5000, len(df_multi)), random_state=42)\n",
    "X = sampled_df[\"text\"].reset_index(drop=True)\n",
    "y = mlb.fit_transform(sampled_df[\"Tag\"])\n",
    "\n",
    "\n",
    "X_train, X_val, y_train, y_val = train_test_split(X, y, test_size=0.2, random_state=42)\n",
    "\n",
    "\n",
    "tokenizer = DistilBertTokenizerFast.from_pretrained(\"distilbert-base-uncased\")\n",
    "train_encodings = tokenizer(X_train.tolist(), truncation=True, padding=True, max_length=512)\n",
    "val_encodings = tokenizer(X_val.tolist(), truncation=True, padding=True, max_length=512)\n",
    "\n",
    "\n",
    "class MultiLabelDataset(torch.utils.data.Dataset):\n",
    "    def __init__(self, encodings, labels):\n",
    "        self.encodings = encodings\n",
    "        self.labels = torch.tensor(labels, dtype=torch.float32)\n",
    "\n",
    "    def __getitem__(self, idx):\n",
    "        item = {key: torch.tensor(val[idx]) for key, val in self.encodings.items()}\n",
    "        item['labels'] = self.labels[idx]\n",
    "        return item\n",
    "\n",
    "    def __len__(self):\n",
    "        return len(self.labels)\n",
    "\n",
    "train_dataset = MultiLabelDataset(train_encodings, y_train)\n",
    "val_dataset = MultiLabelDataset(val_encodings, y_val)\n",
    "\n",
    "\n",
    "model = DistilBertForSequenceClassification.from_pretrained(\n",
    "    \"distilbert-base-uncased\",\n",
    "    num_labels=y.shape[1],\n",
    "    problem_type=\"multi_label_classification\"\n",
    ")\n",
    "\n",
    "\n",
    "def compute_metrics(pred):\n",
    "    logits, labels = pred\n",
    "    sigmoid = torch.nn.Sigmoid()\n",
    "    probs = sigmoid(torch.tensor(logits))\n",
    "    y_pred = (probs > 0.5).int().numpy()\n",
    "    y_true = labels.astype(int)\n",
    "    return {\n",
    "        'micro_f1': f1_score(y_true, y_pred, average='micro'),\n",
    "        'macro_f1': f1_score(y_true, y_pred, average='macro'),\n",
    "        'samples_f1': f1_score(y_true, y_pred, average='samples')\n",
    "    }\n",
    "\n",
    "\n",
    "args = TrainingArguments(\n",
    "    output_dir=\"./distilbert_model\",\n",
    "    eval_strategy=\"epoch\",\n",
    "    save_strategy=\"epoch\",\n",
    "    per_device_train_batch_size=8,\n",
    "    per_device_eval_batch_size=8,\n",
    "    num_train_epochs=5,\n",
    "    learning_rate=2e-5,\n",
    "    load_best_model_at_end=True,\n",
    "    metric_for_best_model=\"micro_f1\",\n",
    "    greater_is_better=True\n",
    ")\n",
    "\n",
    "\n",
    "trainer = Trainer(\n",
    "    model=model,\n",
    "    args=args,\n",
    "    train_dataset=train_dataset,\n",
    "    eval_dataset=val_dataset,\n",
    "    tokenizer=tokenizer,\n",
    "    compute_metrics=compute_metrics\n",
    ")\n",
    "\n",
    "\n",
    "trainer.train()\n",
    "trainer.evaluate()\n"
   ]
  }
 ],
 "metadata": {
  "kernelspec": {
   "display_name": "Python (StackML)",
   "language": "python",
   "name": "stackml-env"
  },
  "language_info": {
   "codemirror_mode": {
    "name": "ipython",
    "version": 3
   },
   "file_extension": ".py",
   "mimetype": "text/x-python",
   "name": "python",
   "nbconvert_exporter": "python",
   "pygments_lexer": "ipython3",
   "version": "3.13.3"
  }
 },
 "nbformat": 4,
 "nbformat_minor": 5
}
